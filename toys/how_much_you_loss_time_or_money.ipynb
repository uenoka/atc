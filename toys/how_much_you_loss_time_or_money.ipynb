{
  "nbformat": 4,
  "nbformat_minor": 0,
  "metadata": {
    "colab": {
      "name": "how_much_you_loss_time_or_money",
      "provenance": [],
      "collapsed_sections": [],
      "include_colab_link": true
    },
    "kernelspec": {
      "name": "python3",
      "display_name": "Python 3"
    }
  },
  "cells": [
    {
      "cell_type": "markdown",
      "metadata": {
        "id": "view-in-github",
        "colab_type": "text"
      },
      "source": [
        "<a href=\"https://colab.research.google.com/github/uenoka/python_practice/blob/master/toys/how_much_you_loss_time_or_money.ipynb\" target=\"_parent\"><img src=\"https://colab.research.google.com/assets/colab-badge.svg\" alt=\"Open In Colab\"/></a>"
      ]
    },
    {
      "cell_type": "code",
      "metadata": {
        "id": "baSTlQJ7eObT",
        "colab_type": "code",
        "colab": {}
      },
      "source": [
        "# params \n",
        "\n",
        "hourly_wage = 2000 # @param input your wage per hour\n",
        "commuting_time =  3# @param input your commuting time per day\n",
        "age = 30 # @param input your age\n",
        "\n",
        "retire_age = 65 # @param input when you will retire"
      ],
      "execution_count": 0,
      "outputs": []
    },
    {
      "cell_type": "code",
      "metadata": {
        "id": "nwjegqsHJ4B2",
        "colab_type": "code",
        "outputId": "23ab6560-014f-4f10-d95b-7cf3be3a1ca4",
        "colab": {
          "base_uri": "https://localhost:8080/",
          "height": 51
        }
      },
      "source": [
        "\n",
        "money_loss_per_day = hourly_wage * commuting_time\n",
        "\n",
        "holiday = 120 \n",
        "remain_day = (retire_age - age)*(365 - holiday)\n",
        "\n",
        "money_loss = money_loss_per_day * remain_day\n",
        "time_loss = commuting_time * remain_day\n",
        "\n",
        "\n",
        "print(\" %d 時間も今後の人生、通勤に使うことになる。\"%time_loss)\n",
        "print(\"これは、時給 %d 円とすると、 %d 円の損失になる。\"%(hourly_wage, money_loss))"
      ],
      "execution_count": 0,
      "outputs": [
        {
          "output_type": "stream",
          "text": [
            " 25725 時間も今後の人生、通勤に使うことになります。\n",
            "これは、時給 2000 円とすると、 51450000 円の損失になります。\n"
          ],
          "name": "stdout"
        }
      ]
    }
  ]
}