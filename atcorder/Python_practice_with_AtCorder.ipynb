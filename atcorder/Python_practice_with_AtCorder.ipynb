{
  "nbformat": 4,
  "nbformat_minor": 0,
  "metadata": {
    "colab": {
      "name": "Python_practice_with_AtCorder",
      "provenance": [],
      "collapsed_sections": [],
      "include_colab_link": true
    },
    "kernelspec": {
      "name": "python3",
      "display_name": "Python 3"
    },
    "accelerator": "GPU"
  },
  "cells": [
    {
      "cell_type": "markdown",
      "metadata": {
        "id": "view-in-github",
        "colab_type": "text"
      },
      "source": [
        "<a href=\"https://colab.research.google.com/github/uenoka/python_practice/blob/master/atcorder/Python_practice_with_AtCorder.ipynb\" target=\"_parent\"><img src=\"https://colab.research.google.com/assets/colab-badge.svg\" alt=\"Open In Colab\"/></a>"
      ]
    },
    {
      "cell_type": "markdown",
      "metadata": {
        "id": "Id2bZG8MfiY5",
        "colab_type": "text"
      },
      "source": [
        "# A - 台形 / Trapezoids\n",
        "上底の長さが a、下底の長さが b、高さが h の台形があります。\n",
        "\n",
        "この台形の面積を求めてください。\n"
      ]
    },
    {
      "cell_type": "markdown",
      "metadata": {
        "id": "-YwaE_V4r-Jd",
        "colab_type": "text"
      },
      "source": [
        "# Pythonとコーディングの練習用\n",
        "## 参考にしたもの\n",
        "* https://qiita.com/drken/items/fd4e5e3630d0f5859067\n",
        "* 基本的にはこれを、全部やって、そのあと類題、その次はB,Cを解いていく流れ。\n",
        "* もしかしたら次はLeetCodeに浮気するかも。(それ含め未定)\n"
      ]
    },
    {
      "cell_type": "code",
      "metadata": {
        "id": "U4b94RYqELF7",
        "colab_type": "code",
        "outputId": "1df4457e-fe5b-4215-d0f8-617d60f2c765",
        "colab": {
          "base_uri": "https://localhost:8080/",
          "height": 34
        }
      },
      "source": [
        "# define a, b, h\n",
        "a = 3\n",
        "b = 4\n",
        "h = 5\n",
        "print((a+b)*h/2)"
      ],
      "execution_count": 1,
      "outputs": [
        {
          "output_type": "stream",
          "text": [
            "17.5\n"
          ],
          "name": "stdout"
        }
      ]
    },
    {
      "cell_type": "markdown",
      "metadata": {
        "id": "ouFJ0MlYgEKS",
        "colab_type": "text"
      },
      "source": [
        "# B - 3人でカードゲームイージー / Card Game for Three (ABC Edit)\n",
        "A さん、B さん、C さんの 3 人が以下のようなカードゲームをプレイしています。\n",
        "\n",
        "最初、 3 人はそれぞれ a、b、c いずれかの文字が書かれたカードを、何枚か持っている。これらは入力で与えられた順番に持っており、途中で並べ替えたりしない。 A さんのターンから始まる。 現在自分のターンである人がカードを 1 枚以上持っているならば、そのうち先頭のカードを捨てる。その後、捨てられたカードに書かれているアルファベットと同じ名前の人 (例えば、カードに a と書かれていたならば A さん) のターンとなる。 現在自分のターンである人がカードを 1 枚も持っていないならば、その人がゲームの勝者となり、ゲームは終了する。 3 人が最初に持っているカードがそれぞれ先頭から順に与えられます。 具体的には、文字列 S A 、 S B 、 S C が与えられます。文字列 S A の i 文字目 ( 1 ≤ i ≤ | S A | ) に書かれている文字が、A さんの持っている中で先頭から i 番目のカードに 書かれている文字です。文字列 S B 、 S C についても同様です。\n",
        "\n",
        "最終的に誰がこのゲームの勝者となるかを求めてください。\n",
        "\n",
        "制約\n",
        "\n",
        "1 ≤ | S A | ≤ 100\n",
        "\n",
        "1 ≤ | S B | ≤ 100\n",
        "\n",
        "1 ≤ | S C | ≤ 100\n",
        "\n",
        "SA 、SB 、SC に含まれる文字はそれぞれ a、b、c のいずれか"
      ]
    },
    {
      "cell_type": "code",
      "metadata": {
        "id": "9RXnqkAfgJmx",
        "colab_type": "code",
        "colab": {}
      },
      "source": [
        "\n",
        "def play_cards(a_s,b_s,c_s):\n",
        "  k = \"a\"\n",
        "  for n in range(1000) :\n",
        "    if k==\"a\":\n",
        "      if len(a_s)==0:\n",
        "        print(\"winner is A !\")\n",
        "        break\n",
        "      else:\n",
        "        k = a_s[0]\n",
        "        a_s = a_s[1:]\n",
        "    if k==\"b\":\n",
        "      if len(b_s)==0:\n",
        "        print(\"winner is B !\")\n",
        "        break\n",
        "      else:\n",
        "        k = b_s[0]\n",
        "        b_s = b_s[1:]\n",
        "    if k==\"c\":\n",
        "      if len(c_s)==0:\n",
        "        print(\"winner is C !\")\n",
        "        break\n",
        "      else:\n",
        "        k = c_s[0]\n",
        "        c_s = c_s[1:]\n",
        "\n",
        "a_s = \"bsacccbcbc\"\n",
        "b_s = \"acacbacca\"\n",
        "c_s = \"acbabbaa\"\n",
        "\n",
        "play_cards(a_s, b_s, c_s)\n"
      ],
      "execution_count": 0,
      "outputs": []
    },
    {
      "cell_type": "markdown",
      "metadata": {
        "id": "ZDwTstP5gKiI",
        "colab_type": "text"
      },
      "source": [
        "# AtCoder Beginners Selection\n",
        "## PracticeA - Welcome to AtCoder\n",
        "\n",
        "高橋君はデータの加工が行いたいです。\n",
        "\n",
        "整数 a , b , c と、文字列 s が与えられます。 a + b + c の計算結果と、文字列 s を並べて表示しなさい。\n"
      ]
    },
    {
      "cell_type": "code",
      "metadata": {
        "id": "CL7pBenvtm0B",
        "colab_type": "code",
        "outputId": "f97cab1c-8519-4446-9b27-7ed4650f772d",
        "colab": {
          "base_uri": "https://localhost:8080/",
          "height": 34
        }
      },
      "source": [
        "def calc_concat(a,b,s):\n",
        "  a = int(a)\n",
        "  b, c = map(int, b.split())\n",
        "  print(\"{} {}\".format(a+b+c, s))\n",
        "\n",
        "\n",
        "a=\"4\"\n",
        "b=\"3 5\"\n",
        "s=\"t\"\n",
        "calc_concat(a,b,s)"
      ],
      "execution_count": 0,
      "outputs": [
        {
          "output_type": "stream",
          "text": [
            "12 t\n"
          ],
          "name": "stdout"
        }
      ]
    },
    {
      "cell_type": "markdown",
      "metadata": {
        "id": "0Dweweknzveh",
        "colab_type": "text"
      },
      "source": [
        "## ABC086A - Product\n",
        "シカのAtCoDeerくんは二つの正整数 a , b を見つけました。 a と b の積が偶数か奇数か判定してください。\n",
        "\n",
        "### 制約 \n",
        "1≤a,b≤10000\n",
        "a , b は整数"
      ]
    },
    {
      "cell_type": "code",
      "metadata": {
        "id": "laD6E2hC0BoF",
        "colab_type": "code",
        "outputId": "b11fc93a-c6b2-474b-fd09-a663e8beb348",
        "colab": {
          "base_uri": "https://localhost:8080/",
          "height": 34
        }
      },
      "source": [
        "def odd_or_even(a,b):\n",
        "  if a%2==1 and b%2==1:\n",
        "    print(\"odd\")\n",
        "  else:\n",
        "    print(\"even\")\n",
        "\n",
        "a = 43\n",
        "b = 4\n",
        "odd_or_even(a,b)"
      ],
      "execution_count": 0,
      "outputs": [
        {
          "output_type": "stream",
          "text": [
            "even\n"
          ],
          "name": "stdout"
        }
      ]
    },
    {
      "cell_type": "markdown",
      "metadata": {
        "id": "iJLaID8N2bPs",
        "colab_type": "text"
      },
      "source": [
        "## ABC081A - Placing Marbles\n",
        "すぬけ君は 1 , 2 , 3 の番号がついた 3 つのマスからなるマス目を持っています。 各マスには 0 か 1 が書かれており、マス i には s i が書かれています。\n",
        "\n",
        "すぬけ君は 1 が書かれたマスにビー玉を置きます。 ビー玉が置かれるマスがいくつあるか求めてください。\n",
        "\n",
        "### 制約\n",
        " s 1 , s 2 , s 3 は 1 あるいは 0\n",
        "\n",
        "### 入力\n",
        "s1s2s3\n"
      ]
    },
    {
      "cell_type": "code",
      "metadata": {
        "id": "vwgJOMZW7V5K",
        "colab_type": "code",
        "outputId": "e684b4c0-544a-48a3-ebaa-705124f24306",
        "colab": {
          "base_uri": "https://localhost:8080/",
          "height": 34
        }
      },
      "source": [
        "def count(s):\n",
        "  ans = 0\n",
        "  for n in s:\n",
        "    ans+=int(n)\n",
        "  print(ans)\n",
        "\n",
        "s = \"011\"\n",
        "count(s)"
      ],
      "execution_count": 0,
      "outputs": [
        {
          "output_type": "stream",
          "text": [
            "2\n"
          ],
          "name": "stdout"
        }
      ]
    },
    {
      "cell_type": "markdown",
      "metadata": {
        "id": "vcUrr7dv9w-6",
        "colab_type": "text"
      },
      "source": [
        "\n",
        "# ABC081B - Shift only\n",
        "黒板に N 個の正の整数 A1 , . . . , AN が書かれています．\n",
        "\n",
        "すぬけ君は，黒板に書かれている整数がすべて偶数であるとき，次の操作を行うことができます．\n",
        "\n",
        "黒板に書かれている整数すべてを， 2 で割ったものに置き換える． すぬけ君は最大で何回操作を行うことができるかを求めてください．\n",
        "\n",
        "## 制約\n",
        "1 ≤ N ≤ 200\n",
        "\n",
        "1 ≤ A i ≤ 10^9\n",
        "\n",
        "## 入力\n",
        "入力は以下の形式で標準入力から与えられる。\n",
        "\n",
        "N\n",
        "\n",
        "A1 A2 ... AN\n",
        "\n",
        "この問題は出来なかった（こういう地道にやる系苦手…）"
      ]
    },
    {
      "cell_type": "code",
      "metadata": {
        "id": "PtzYoW1IARut",
        "colab_type": "code",
        "outputId": "8c95abc4-864f-4638-ea68-4b93e2576e59",
        "colab": {
          "base_uri": "https://localhost:8080/",
          "height": 34
        }
      },
      "source": [
        "def divide_cnt(n,a_s):\n",
        "  b = []\n",
        "  a_s = a_s.split()\n",
        "  for a in map(int,a_s):\n",
        "    b.append(a)\n",
        "#  print(b)\n",
        "  cnt = 0\n",
        "  flg = True\n",
        "  while flg:\n",
        "    for i in range(len(b)):\n",
        "      if b[i] == 0:\n",
        "        flg = False\n",
        "      if b[i]%2 == 0:\n",
        "       b[i]=b[i]/2\n",
        "      else:\n",
        "        flg = False\n",
        "    if flg == False:\n",
        "      break\n",
        "    cnt+=1\n",
        "  print(cnt)\n",
        "\n",
        "\n",
        "n=4\n",
        "a=\"0 0 0\"\n",
        "divide_cnt(n,a)\n"
      ],
      "execution_count": 0,
      "outputs": [
        {
          "output_type": "stream",
          "text": [
            "0\n"
          ],
          "name": "stdout"
        }
      ]
    },
    {
      "cell_type": "markdown",
      "metadata": {
        "id": "Uw42WKF2LvfH",
        "colab_type": "text"
      },
      "source": [
        "# ABC087B - Coins\n",
        "\n",
        "あなたは、 500 円玉を A 枚、 100 円玉を B 枚、 50 円玉を C 枚持っています。 これらの硬貨の中から何枚かを選び、合計金額をちょうど X 円にする方法は何通りありますか。\n",
        "\n",
        "同じ種類の硬貨どうしは区別できません。2 通りの硬貨の選び方は、ある種類の硬貨についてその硬貨を選ぶ枚数が異なるとき区別されます。\n",
        "\n",
        "## 制約\n",
        "0 ≤ A , B , C ≤ 50\n",
        "\n",
        "A + B + C ≥ 1\n",
        "\n",
        "50 ≤ X ≤ 20000\n",
        "\n",
        "A , B , C は整数である\n",
        "\n",
        "X は 50 の倍数である"
      ]
    },
    {
      "cell_type": "code",
      "metadata": {
        "id": "NHeE2LSKVvON",
        "colab_type": "code",
        "outputId": "cbcea66c-62d4-4a35-da2c-591669cce9cb",
        "colab": {
          "base_uri": "https://localhost:8080/",
          "height": 68
        }
      },
      "source": [
        "# 回答例：For文で全件回して、ヒットした件数を出力\n",
        "# 納得いかんのは自分の関数はAcceptされずにしたのはされるのと、そもそもどっちのケースでもA,B,Cいづれかが 0 のケースが考慮されていない\n",
        "def coins(a_cnt,b_cnt,c_cnt,x):\n",
        "  import datetime\n",
        "  print(datetime.datetime.now())\n",
        "  cnt = 0\n",
        "  for a in range(a_cnt+1):\n",
        "   for b in range(b_cnt+1):\n",
        "     for c in range(c_cnt+1):\n",
        "       if x-(a*500+b*100+c*50)==0:\n",
        "         cnt += 1\n",
        "  print(cnt)\n",
        "  print(datetime.datetime.now())\n",
        "a_cnt = 50 # 500 円\n",
        "b_cnt = 50 # 100 円\n",
        "c_cnt = 50 # 50 円\n",
        "x = 20000\n",
        "coins(a_cnt,b_cnt,c_cnt,x)"
      ],
      "execution_count": 0,
      "outputs": [
        {
          "output_type": "stream",
          "text": [
            "2019-11-17 23:45:56.789188\n",
            "266\n",
            "2019-11-17 23:45:56.816914\n"
          ],
          "name": "stdout"
        }
      ]
    },
    {
      "cell_type": "code",
      "metadata": {
        "id": "mRj8olwGdWl5",
        "colab_type": "code",
        "outputId": "a40cb983-9540-4fee-ac86-3d8c8dc9ef0e",
        "colab": {
          "base_uri": "https://localhost:8080/",
          "height": 34
        }
      },
      "source": [
        "A=5\n",
        "B=4\n",
        "C=4\n",
        "X=250\n",
        "count=0\n",
        "for i in range(C+1):\n",
        "    for j in range(B+1):\n",
        "        for k in range(A+1):\n",
        "            if X-i*50-j*100-k*500==0:\n",
        "                count+=1\n",
        "print(count)\n"
      ],
      "execution_count": 0,
      "outputs": [
        {
          "output_type": "stream",
          "text": [
            "2\n"
          ],
          "name": "stdout"
        }
      ]
    },
    {
      "cell_type": "markdown",
      "metadata": {
        "id": "DCYttE09hb3U",
        "colab_type": "text"
      },
      "source": [
        "# ABC083B - Some Sums\n",
        "1 以上 N 以下の整数のうち、 10 進法での各桁の和が A 以上 B 以下であるものの総和を求めてください。\n",
        "\n",
        "## 制約\n",
        " 1 ≤ N ≤ 10^4\n",
        " \n",
        " 1 ≤ A ≤ B ≤ 36\n",
        "\n",
        "## 入力 \n",
        "入力はすべて整数である 入力は以下の形式で標準入力から与えられる。\n",
        "\n",
        "N　A　B\n",
        "\n",
        "## 出力\n",
        "1 以上 N 以下の整数のうち、 10 進法での各桁の和が A 以上 B 以下であるものの総和を出力せよ。"
      ]
    },
    {
      "cell_type": "code",
      "metadata": {
        "id": "tAJzYWzLiaNw",
        "colab_type": "code",
        "colab": {}
      },
      "source": [
        ""
      ],
      "execution_count": 0,
      "outputs": []
    },
    {
      "cell_type": "markdown",
      "metadata": {
        "id": "JdN9FO7LrQBV",
        "colab_type": "text"
      },
      "source": [
        "# ABC088B - Card Game for Two\n",
        "## 問題文\n",
        "N 枚のカードがあります. i 枚目のカードには, a i という数が書かれています. Alice と Bob は, これらのカードを使ってゲームを行います. ゲームでは, Alice と Bob が交互に 1 枚ずつカードを取っていきます. Alice が先にカードを取ります. 2 人がすべてのカードを取ったときゲームは終了し, 取ったカードの数の合計がその人の得点になります. 2 人とも自分の得点を最大化するように最適な戦略を取った時, Alice は Bob より何点多く取るか求めてください.\n",
        "\n",
        "## 制約\n",
        "```\n",
        "N は 1 以上 100 以下の整数 \n",
        "ai( 1 ≤ i ≤ N ) は 1 以上 100 以下の整数\n",
        "```\n",
        "# 入力\n",
        "入力は以下の形式で標準入力から与えられる.\n",
        "```\n",
        "N\n",
        "a1 a2 a3 . . . aN\n",
        "```\n",
        "\n",
        "## 解法\n",
        "Alice, Bobは自分に最適な手段をとる=今あるカードの中で最大のものをとっていくため、ソートして分配、その後差を求めるのがよさそう"
      ]
    },
    {
      "cell_type": "code",
      "metadata": {
        "id": "aN9dIRojsCl7",
        "colab_type": "code",
        "outputId": "9bf18dd6-ac59-409e-ab2a-7462129dd7c1",
        "colab": {
          "base_uri": "https://localhost:8080/",
          "height": 34
        }
      },
      "source": [
        "def diff(N,an):\n",
        "  # もっときれいに書きたい…\n",
        "  an = an.split()\n",
        "  an_num = []\n",
        "  for i in map(int,an):\n",
        "    an_num.append(i)\n",
        "  an_num.sort(reverse=True)\n",
        "  alice = []\n",
        "  bob = []\n",
        "  cnt = 1\n",
        "  for i in an_num:\n",
        "    if cnt%2==1:\n",
        "      alice.append(i)\n",
        "    else:\n",
        "      bob.append(i)\n",
        "    cnt+=1\n",
        "  print(sum(alice)-sum(bob))\n",
        "\n",
        "\n",
        "# N = input()\n",
        "# an = input()\n",
        "N = 5\n",
        "an = \"1 2 3 5 3\"\n",
        "\n",
        "diff(N,an)"
      ],
      "execution_count": 0,
      "outputs": [
        {
          "output_type": "stream",
          "text": [
            "4\n"
          ],
          "name": "stdout"
        }
      ]
    },
    {
      "cell_type": "markdown",
      "metadata": {
        "id": "LH7d3th8165n",
        "colab_type": "text"
      },
      "source": [
        "# ABC085B - Kagami Mochi\n",
        "## 問題文\n",
        "X 段重ねの鏡餅 ( X ≥ 1 ) とは、 X 枚の円形の餅を縦に積み重ねたものであって、どの餅もその真下の餅より直径が小さい（一番下の餅を除く）もののことです。例えば、直径 10 、 8 、 6 センチメートルの餅をこの順に下から積み重ねると 3 段重ねの鏡餅になり、餅を一枚だけ置くと 1 段重ねの鏡餅になります。\n",
        "\n",
        "ダックスフンドのルンルンは N 枚の円形の餅を持っていて、そのうち i 枚目の餅の直径は di センチメートルです。これらの餅のうち一部または全部を使って鏡餅を作るとき、最大で何段重ねの鏡餅を作ることができるでしょうか。\n",
        "\n",
        "## 制約\n",
        "```\n",
        "1 ≤ N  ≤ 100 \n",
        "1 ≤ di ≤ 100\n",
        "入力値はすべて整数である。 \n",
        "```\n",
        "## 入力\n",
        "入力は以下の形式で標準入力から与えられる。\n",
        "```\n",
        "N\n",
        "d1\n",
        ":\n",
        "dN\n",
        "```\n",
        "\n",
        "## 出力\n",
        "作ることのできる鏡餅の最大の段数を出力せよ。\n",
        "\n",
        "## 解法\n",
        "おそらく、リストの重複を排除してリストの長さを出力すれば答えになりそう\n",
        "または、与えられた数字をMapに入れて、重複排除するのもアリか？"
      ]
    },
    {
      "cell_type": "code",
      "metadata": {
        "id": "t8EDZbL7CH5b",
        "colab_type": "code",
        "outputId": "0d40eabc-7f21-4fff-ed38-45d57412d851",
        "colab": {
          "base_uri": "https://localhost:8080/",
          "height": 153
        }
      },
      "source": [
        "# n = input()\n",
        "n = 5\n",
        "dn = []\n",
        "for i in range(n):\n",
        "  dn.append(int(input()))\n",
        "# print(dn)\n",
        "# print(set(dn))\n",
        "print(len(set(dn)))\n"
      ],
      "execution_count": 0,
      "outputs": [
        {
          "output_type": "stream",
          "text": [
            "1\n",
            "2\n",
            "2\n",
            "3\n",
            "4\n",
            "[1, 2, 2, 3, 4]\n",
            "{1, 2, 3, 4}\n",
            "4\n"
          ],
          "name": "stdout"
        }
      ]
    },
    {
      "cell_type": "markdown",
      "metadata": {
        "id": "5jsrWz0DGXEi",
        "colab_type": "text"
      },
      "source": [
        "# ABC085C - Otoshidama\n",
        "## 問題文\n",
        "日本でよく使われる紙幣は、10000 円札、5000 円札、1000 円札です。以下、「お札」とはこれらのみを指します。\n",
        "\n",
        "青橋くんが言うには、彼が祖父から受け取ったお年玉袋にはお札が N 枚入っていて、合計でY 円だったそうですが、嘘かもしれません。このような状況がありうるか判定し、ありうる場合はお年玉袋の中身の候補を一つ見つけてください。なお、彼の祖父は十分裕福であり、お年玉袋は十分大きかったものとします。\n",
        "\n",
        "## 制約\n",
        "```\n",
        "1 ≤ N ≤ 2000\n",
        "1000 ≤ Y ≤ 2 × 10^7\n",
        "```\n",
        "\n",
        "N は整数である。 Y は 1000 の倍数である。 入力 入力は以下の形式で標準入力から与えられる。\n",
        "```\n",
        "N\n",
        "Y\n",
        "```\n",
        "\n",
        "## 出力\n",
        "```\n",
        "N 枚のお札の合計金額が Y 円となることがありえない場合は、-1 -1 -1 と出力せよ。\n",
        "```\n",
        "```\n",
        "N 枚のお札の合計金額が Y 円となることがありうる場合は、そのような N 枚のお札の組み合わせの一例を「 10000 円札 x 枚、 5000 円札 y 枚、 1000 円札 z 枚」として、\n",
        " x 、 y 、 z を空白で区切って出力せよ。\n",
        " 複数の可能性が考えられるときは、そのうちどれを出力してもよい。\n",
        "\n",
        "```\n",
        " ## 回答方針\n",
        " おそらく、全パターンを作り出す方法を作ればできるはず。\n",
        " どのようにしてそのパターンを構築するか？？"
      ]
    },
    {
      "cell_type": "code",
      "metadata": {
        "id": "pahruvo3Isj5",
        "colab_type": "code",
        "outputId": "0a8d4e58-5806-451a-ced4-49f969c66dbd",
        "colab": {
          "base_uri": "https://localhost:8080/",
          "height": 68
        }
      },
      "source": [
        "import datetime\n",
        "def check_otoshidama(n, y):\n",
        "  print(datetime.datetime.now())\n",
        "  n = int(n)\n",
        "  y = int(y)\n",
        "  check = False\n",
        "  for n_10000 in range(n+1):\n",
        "    for n_5000 in range(n+1-n_10000):\n",
        "      n_1000 = n- n_5000 -n_10000\n",
        "      total = 10000*n_10000 + 5000*n_5000 + 1000*n_1000\n",
        "      if total == y and n_1000+n_5000+n_10000 == n:\n",
        "        print('{} {} {}'.format(n_10000,n_5000,n_1000))\n",
        "        check = True\n",
        "      if check:\n",
        "        break\n",
        "    if check:\n",
        "      break\n",
        "  if not check:\n",
        "    print(\"-1 -1 -1\")\n",
        "  print(datetime.datetime.now())\n",
        "\n",
        "inputs = \"2000 100000\"\n",
        "n,y = inputs.split(\" \") \n",
        "check_otoshidama(n, y)"
      ],
      "execution_count": 0,
      "outputs": [
        {
          "output_type": "stream",
          "text": [
            "2019-11-17 23:47:00.364061\n",
            "-1 -1 -1\n",
            "2019-11-17 23:47:00.843313\n"
          ],
          "name": "stdout"
        }
      ]
    },
    {
      "cell_type": "code",
      "metadata": {
        "id": "eWcJHOMzw2pI",
        "colab_type": "code",
        "colab": {}
      },
      "source": [
        "# 時間がかかりすぎてダメになる例を時間測ってみる\n",
        "import datetime\n",
        "print(datetime.datetime.now())\n",
        "def check_otoshidama(n, y):\n",
        "  n = int(n)\n",
        "  y = int(y)\n",
        "  check = False\n",
        "  for n_10000 in range(n+1):\n",
        "    print(\"n1000 start\")\n",
        "    for n_5000 in range(n+1):\n",
        "      print(\"n5000 start\")\n",
        "      for n_1000 in range(n+1):\n",
        "        print(\"n10000 start\")\n",
        "        total = 1000*n_1000 + 5000*n_5000 + 10000*n_10000\n",
        "        if total == y and n_1000+n_5000+n_10000 == n:\n",
        "          print('{} {} {}'.format(n_10000,n_5000,n_1000))\n",
        "          check = True\n",
        "        if check:\n",
        "          break\n",
        "      if check:\n",
        "        break\n",
        "    if check:\n",
        "      break\n",
        "  if not check:\n",
        "    print(\"-1 -1 -1\")\n",
        " \n",
        " \n",
        "inputs = \"20 10000\"\n",
        "n,y = inputs.split(\" \") \n",
        "check_otoshidama(n, y)\n",
        "print(datetime.datetime.now())"
      ],
      "execution_count": 0,
      "outputs": []
    },
    {
      "cell_type": "code",
      "metadata": {
        "id": "wQbFy-hh1B00",
        "colab_type": "code",
        "outputId": "13153c03-2b5f-4584-8514-a2f37d9f861c",
        "colab": {
          "base_uri": "https://localhost:8080/",
          "height": 68
        }
      },
      "source": [
        "# for 文をどのくらいの時間で実行できるのかテストしてみる\n",
        "import datetime\n",
        "print(datetime.datetime.now())\n",
        "test_input = 400\n",
        "for i in range(test_input+1):\n",
        "  for j in range(test_input+1):\n",
        "    for k in range(test_input+1):\n",
        "      if(i==j==k==test_input):\n",
        "        print(\"roop count is : \"+str(i*j*k))\n",
        "print(datetime.datetime.now())"
      ],
      "execution_count": 0,
      "outputs": [
        {
          "output_type": "stream",
          "text": [
            "2019-11-18 00:18:18.638796\n",
            "roop count is : 64000000\n",
            "2019-11-18 00:18:23.192946\n"
          ],
          "name": "stdout"
        }
      ]
    },
    {
      "cell_type": "markdown",
      "metadata": {
        "id": "fJVvKmr94-dV",
        "colab_type": "text"
      },
      "source": [
        "# ABC049C - 白昼夢 / Daydream\n",
        "## 問題文\n",
        "英小文字からなる文字列 S が与えられます。 T が空文字列である状態から始め、以下の操作を好きな回数繰り返すことで S = T とすることができるか判定してください。\n",
        "\n",
        "T の末尾に dream dreamer erase eraser のいずれかを追加する。\n",
        "## 制約\n",
        "```\n",
        "1 ≦ | S | ≦ 10^5\n",
        "S は英小文字からなる。\n",
        "```\n",
        "## 入力\n",
        "入力は以下の形式で標準入力から与えられる。\n",
        "```\n",
        "S\n",
        "```\n",
        "## 出力\n",
        "S = T とすることができる場合 YES を、そうでない場合 NO を出力せよ。\n",
        "\n",
        "## 解法\n",
        "貪欲法を利用する。ケツから食ってく。\n",
        "\n",
        "（自分では思いつかなかったので、類題として、頭から食っていく貪欲法の問題作ってみて、それをやってみよう。）\n"
      ]
    },
    {
      "cell_type": "code",
      "metadata": {
        "id": "uj_9Xx8i5fww",
        "colab_type": "code",
        "outputId": "8a70b106-b067-48c3-9054-17773d50b17a",
        "colab": {
          "base_uri": "https://localhost:8080/",
          "height": 51
        }
      },
      "source": [
        "def day_dream(s):\n",
        "  S = \"dreamerasererase\"\n",
        "  a,b,c,d =  'dream','dreamer','erase','eraser'\n",
        "  S = S.replace(d,\"\").replace(c,\"\").replace(b,\"\").replace(a,\"\")\n",
        "  if S==\"\" :\n",
        "    print(\"YES\")\n",
        "  else:\n",
        "    print(\"NO\")\n",
        "\n",
        "\n",
        "\n",
        "s = input()\n",
        "day_dream(s)"
      ],
      "execution_count": 0,
      "outputs": [
        {
          "output_type": "stream",
          "text": [
            "dreamdreamer\n",
            "YES\n"
          ],
          "name": "stdout"
        }
      ]
    },
    {
      "cell_type": "code",
      "metadata": {
        "id": "h3uhIciXBe2q",
        "colab_type": "code",
        "outputId": "fe27fcff-7fc3-4cfb-b388-a4e2623109ec",
        "colab": {
          "base_uri": "https://localhost:8080/",
          "height": 34
        }
      },
      "source": [
        "S = \"dreamerasererase\"\n",
        "a,b,c,d =  'dream','dreamer','erase','eraser'\n",
        "S = S.replace(d,\"\").replace(c,\"\").replace(b,\"\").replace(a,\"\")\n",
        "if S==\"\" :\n",
        "  print(\"YES\")\n",
        "else:\n",
        "  print(\"NO\")\n"
      ],
      "execution_count": 0,
      "outputs": [
        {
          "output_type": "stream",
          "text": [
            "YES\n"
          ],
          "name": "stdout"
        }
      ]
    },
    {
      "cell_type": "markdown",
      "metadata": {
        "id": "mZg8M_A0PnpC",
        "colab_type": "text"
      },
      "source": [
        "# ABC086C - Traveling\n",
        "## 問題文\n",
        "シカのAtCoDeerくんは二次元平面上で旅行をしようとしています。 AtCoDeerくんの旅行プランでは、時刻 0 に 点 ( 0 , 0 ) を出発し、 1 以上 N 以下の各 i に対し、時刻 t i に 点 ( x i , y i ) を訪れる予定です。\n",
        "\n",
        "AtCoDeerくんが時刻 t に 点 ( x , y ) にいる時、 時刻 t + 1 には 点 ( x + 1 , y ) , ( x − 1 , y ) , ( x , y + 1 ) , ( x , y − 1 ) のうちいずれかに存在することができます。 その場にとどまることは出来ないことに注意してください。 AtCoDeerくんの旅行プランが実行可能かどうか判定してください。\n",
        "\n",
        "## 制約 \n",
        "```\n",
        "1≤N≤10^5\n",
        "0≤xi≤10^5\n",
        "0≤yi≤10^5\n",
        "1≤ti≤10^5\n",
        "\n",
        "t i<t i + 1 ( 1≤i≤N − 1 )\n",
        "```\n",
        "入力は全て整数\n",
        "## 入力\n",
        "入力は以下の形式で標準入力から与えられる。\n",
        "```\n",
        "N\n",
        "t1 x1 y1\n",
        "t2 x2 y2\n",
        ":\n",
        "tN xN yN\n",
        "```\n",
        "## 出力\n",
        "旅行プランが実行可能ならYesを、不可能ならNoを出力してください。\n",
        "\n",
        "## 回答方針\n",
        "基本的に\n",
        "```\n",
        "時間 t が偶数の時\n",
        "x + y = 偶数\n",
        "\n",
        "時間 t が奇数の時\n",
        "x + y = 奇数\n",
        "\n",
        "かつ\n",
        "\n",
        "x + y <= t\n",
        "\n",
        "という性質を使う。\n",
        "ただし、以下の入力の時にNoが出力できるよう対応するべきかを検討しないといけないはずでは?\n",
        "4\n",
        "1 1 0\n",
        "2 0 2\n",
        "3 1 0\n",
        "4 2 2\n",
        "```"
      ]
    },
    {
      "cell_type": "code",
      "metadata": {
        "id": "-R1AuGeJRxHw",
        "colab_type": "code",
        "outputId": "7f6b5eb6-77a6-40d8-c8d1-5eee4c10e170",
        "colab": {
          "base_uri": "https://localhost:8080/",
          "height": 119
        }
      },
      "source": [
        "\n",
        "n = int(input())\n",
        "ans =\"Yes\"\n",
        "for i in range(n):\n",
        "  t, x, y = map(int ,input().split(\" \"))\n",
        "#  print(\"t  is {} ,x is {} ,y is {}\".format(t,x,y))\n",
        "  dist = x+y\n",
        "  if t<dist or (dist%2) != (t%2):\n",
        "  #if t < dist or (dist % 2) != (t % 2):\n",
        "    ans = \"No\"\n",
        "print(ans)\n"
      ],
      "execution_count": 0,
      "outputs": [
        {
          "output_type": "stream",
          "text": [
            "4\n",
            "1 1 0\n",
            "2 0 2\n",
            "3 1 0\n",
            "4 2 2\n",
            "Yes\n"
          ],
          "name": "stdout"
        }
      ]
    },
    {
      "cell_type": "code",
      "metadata": {
        "id": "3BUyPeUhXy_c",
        "colab_type": "code",
        "outputId": "1b43b1bb-3e61-4d71-db5a-1494b41cbac3",
        "colab": {
          "base_uri": "https://localhost:8080/",
          "height": 51
        }
      },
      "source": [
        "\n",
        "n = int(input())\n",
        "for i in range(n):\n",
        "    t, x, y = map(int,input().split())\n",
        "    print(\"t  is {} ,x is {} ,y is {}\".format(t,x,y))\n",
        "    dist = x + y\n",
        "    if t < dist or (dist % 2) != (t % 2):\n",
        "        print(\"No\")\n",
        "        exit()\n",
        " \n",
        "print(\"Yes\")\n"
      ],
      "execution_count": 0,
      "outputs": [
        {
          "output_type": "stream",
          "text": [
            "0\n",
            "Yes\n"
          ],
          "name": "stdout"
        }
      ]
    },
    {
      "cell_type": "code",
      "metadata": {
        "id": "k1Bzb-noIjGb",
        "colab_type": "code",
        "outputId": "47e91f2b-6947-4454-fc08-dd98d6cbee56",
        "colab": {
          "base_uri": "https://localhost:8080/",
          "height": 51
        }
      },
      "source": [
        "N = int(input())\n",
        "print(N/2*N/2)"
      ],
      "execution_count": 0,
      "outputs": [
        {
          "output_type": "stream",
          "text": [
            "8\n",
            "16.0\n"
          ],
          "name": "stdout"
        }
      ]
    },
    {
      "cell_type": "markdown",
      "metadata": {
        "id": "p-UGB-c9lZQm",
        "colab_type": "text"
      },
      "source": [
        "# A - RGB Cards \n",
        "## 問題文 \n",
        "AtCoDeer君は、赤、緑、青色のカードを持っています。 それぞれのカードには 1 以上 9 以下の整数が書かれており、赤色のカードには r、 緑色のカードには g、青色のカードには b が書かれています。 3 つのカードを左から順に赤、緑、青色の順に並べ、左から整数を読んだときにこれが 4 の倍数であるか判定しなさい。\n",
        "\n",
        "## 制約 \n",
        "1 ≤ r , g , b ≤ 9 \n",
        "## 入力 \n",
        "入力は以下の形式で標準入力から与えられる。\n",
        "```\n",
        "r\n",
        "g\n",
        "b\n",
        "```\n",
        "## 出力\n",
        "AtCoDeer君が作った 3 桁の整数が 4 の倍数ならば YES、そうでないならば NO を出力しなさい。\n",
        "\n",
        "https://atcoder.jp/contests/abc064/tasks/abc064_a\n",
        "\n",
        "## 方針\n",
        "3桁以降はすべて4の倍数なので、下2桁が4の倍数かの判定をする。\n"
      ]
    },
    {
      "cell_type": "code",
      "metadata": {
        "id": "dX4pXrQtlYZm",
        "colab_type": "code",
        "outputId": "0740ed86-7d25-45b9-89cc-7ee9f5f942cc",
        "colab": {
          "base_uri": "https://localhost:8080/",
          "height": 68
        }
      },
      "source": [
        "def is_multiple_of_four(r, g, b):\n",
        "  l2d = int(g)*10+int(b) # last 2 digits\n",
        "  print(\"YES\") if l2d%4 == 0 else print(\"NO\")\n",
        "\n",
        "r, g, b = input().split(\" \")\n",
        "is_multiple_of_four(r, g, b)\n",
        "\n"
      ],
      "execution_count": 0,
      "outputs": [
        {
          "output_type": "stream",
          "text": [
            "1 2 4\n",
            "24\n",
            "YES\n"
          ],
          "name": "stdout"
        }
      ]
    },
    {
      "cell_type": "markdown",
      "metadata": {
        "id": "icIcF8neltkQ",
        "colab_type": "text"
      },
      "source": [
        "# A - Infinite Coins \n",
        "## 問題文\n",
        "E869120 は 1 円硬貨を A 枚と 500 円硬貨を無限枚持っています. これらの硬貨だけを使うことによって, ちょうど N 円を支払うことができるかを判定しなさい.\n",
        "\n",
        "## 制約\n",
        "N は 1 以上 10000 以下の整数 A は 0 以上 1000 以下の整数\n",
        "\n",
        "## 入力\n",
        "入力は以下の形式で標準入力から与えられる.\n",
        "```\n",
        "N\n",
        "A\n",
        "```\n",
        "## 出力\n",
        "E869120 の持っている 1 円硬貨と 500 円硬貨だけで, ちょうど N 円を支払うことができるならば Yes, そうでないならば No を出力しなさい.\n",
        "https://atcoder.jp/contests/abc088/tasks/abc088_a\n",
        "\n",
        "## 方針\n",
        "500で割ったあまりより1円の数が多ければOKという方針\n",
        "\n",
        "ただし、「ちょうどN円」という文言が、過不足なくN円持っているという意味かどうかでちょっと変わるのでそういうあいまいなところで弾かれるかも。\n",
        "\n",
        "基本は、N円以上持っているかどうか、という感じでやっていく。\n"
      ]
    },
    {
      "cell_type": "code",
      "metadata": {
        "id": "JLr90rYMltSb",
        "colab_type": "code",
        "outputId": "fb7364fc-a603-4e1c-efe2-8b151d05d077",
        "colab": {
          "base_uri": "https://localhost:8080/",
          "height": 68
        }
      },
      "source": [
        "def can_pay(n,a):\n",
        "  n %= 500\n",
        "  print(\"Yes\") if(n<=a) else print(\"No\")\n",
        "\n",
        "\n",
        "n = int(input())\n",
        "a = int(input())\n",
        "can_pay(n,a)"
      ],
      "execution_count": 0,
      "outputs": [
        {
          "output_type": "stream",
          "text": [
            "2018\n",
            "218\n",
            "YES\n"
          ],
          "name": "stdout"
        }
      ]
    },
    {
      "cell_type": "markdown",
      "metadata": {
        "id": "qqeLs9RGlu-X",
        "colab_type": "text"
      },
      "source": [
        "\n",
        "# A - Round Up the Mean \n",
        "## 問題文\n",
        "2 つの正整数 a , b が与えられます。 a , b の平均値を x とします。 x の小数点以下を切り上げて得られる整数を出力してください。\n",
        "\n",
        "## 制約\n",
        "a , b は整数である。 1 ≤ a , b ≤ 100\n",
        "\n",
        "## 入力\n",
        "入力は以下の形式で標準入力から与えられる。\n",
        "```\n",
        "a\n",
        "b\n",
        "```\n",
        "## 出力\n",
        "x の小数点以下を切り上げて得られる整数を出力せよ。\n",
        "https://atcoder.jp/contests/abc082/tasks/abc082_a"
      ]
    },
    {
      "cell_type": "code",
      "metadata": {
        "id": "7ArZEhoZlv4W",
        "colab_type": "code",
        "outputId": "4c8ca99a-2112-41f7-a5c2-509e292f0304",
        "colab": {
          "base_uri": "https://localhost:8080/",
          "height": 51
        }
      },
      "source": [
        "#import math\n",
        "def round_up_mean(a,b):\n",
        "#  ans = math.ceil((a+b)/2)\n",
        "#  print(ans)\n",
        "  ans = -(-(a+b)//2)\n",
        "  print(ans)\n",
        "\n",
        "a, b = map(int, input().split(\" \"))\n",
        "round_up_mean(a, b)"
      ],
      "execution_count": 0,
      "outputs": [
        {
          "output_type": "stream",
          "text": [
            "1 2\n",
            "2\n"
          ],
          "name": "stdout"
        }
      ]
    },
    {
      "cell_type": "markdown",
      "metadata": {
        "id": "OYU6_jTKnTtI",
        "colab_type": "text"
      },
      "source": [
        "# A - Something on It\n",
        "## 問題文\n",
        " ラーメン店「高橋屋」のラーメンの値段は 1 杯 700 円ですが、トッピング（味玉、チャーシュー、ねぎ）を乗せた場合は 1 種類につき 100 円が加算されます。\n",
        "\n",
        "ある客がラーメンを一杯注文し、店員にトッピングの希望を伝えました。店員は注文の内容をメモ帳に文字列 S として記録しました。 S の長さは 3 文字で、 S の 1 文字目が o のとき客のラーメンに味玉を乗せることを、x のとき味玉を乗せないことを表します。同様に、 S の 2 文字目、 3 文字目はそれぞれチャーシュー、ねぎの有無を表します。\n",
        "\n",
        "S が入力されると、対応するラーメンの値段を出力するプログラムを書いてください。\n",
        "\n",
        "##制約\n",
        " S は長さ 3 の文字列である。 S の各文字は o または x である。\n",
        "\n",
        "## 入力 \n",
        "入力は以下の形式で標準入力から与えられる。\n",
        "```\n",
        "S\n",
        "```\n",
        "\n",
        "## 出力\n",
        " S に対応するラーメンの値段が y 円のとき、 y の値を出力せよ。\n",
        "\n",
        "https://atcoder.jp/contests/abc095/tasks/abc095_a"
      ]
    },
    {
      "cell_type": "code",
      "metadata": {
        "id": "1i3NCV--rmhW",
        "colab_type": "code",
        "outputId": "6b086f4b-7277-47f2-c704-4d3f9f21a3b6",
        "colab": {
          "base_uri": "https://localhost:8080/",
          "height": 51
        }
      },
      "source": [
        "def something_on_it(args):\n",
        "  cnt = 0\n",
        "  for s in args:\n",
        "    if s == \"o\":\n",
        "      cnt += 1\n",
        "  print(700 + 100*cnt)\n",
        "\n",
        "\n",
        "\n",
        "something_on_it(input())"
      ],
      "execution_count": 0,
      "outputs": [
        {
          "output_type": "stream",
          "text": [
            "oxo\n",
            "900\n"
          ],
          "name": "stdout"
        }
      ]
    },
    {
      "cell_type": "markdown",
      "metadata": {
        "id": "yWUgMkVqnj4e",
        "colab_type": "text"
      },
      "source": [
        "# A - Already 2018\n",
        "## 問題文\n",
        " 2018 年 1 月某日、高木さんは書類を書いています。書類には、その日の日付を yyyy/mm/dd という形式で書き込む欄があります。例えば、 2018 年 1 月 23 日は 2018/01/23 となります。\n",
        "\n",
        "書類を書き終えたあと、高木さんは日付欄の先頭に誤って 2017 と書いてしまっていたことに気がつきました。高木さんが日付欄に書いた文字列 S を入力すると、 S の先頭の 4 文字を 2018 に修正して出力するプログラムを書いてください。\n",
        "\n",
        "## 制約 \n",
        "S は長さ 10 の文字列である。 S の先頭の 8 文字は 2017/01/ である。 S の末尾の 2 文字は数字であり、 1 以上 31 以下の整数を表す。 \n",
        "\n",
        "## 入力 \n",
        "入力は以下の形式で標準入力から与えられる。\n",
        "```\n",
        "S\n",
        "```\n",
        "出力 S の先頭の 4 文字を 2018 に置き換えて出力せよ。\n",
        "\n",
        "https://atcoder.jp/contests/abc085/tasks/abc085_a\n",
        "\n",
        "## 方針\n",
        "* 正規表現\n",
        "* 普通に文字列先頭4文字を置き換える\n",
        "\n",
        "→どっちが早いんだろ？正規表現ライブラリ入れるから普通にやった方が早いかな\n"
      ]
    },
    {
      "cell_type": "code",
      "metadata": {
        "id": "Iuod6nkgsGnz",
        "colab_type": "code",
        "colab": {
          "base_uri": "https://localhost:8080/",
          "height": 51
        },
        "outputId": "9623edbe-ee24-4c81-b2d9-b5d605109392"
      },
      "source": [
        "def is_already_2018(date):\n",
        "  date = date.replace('2017','2018')\n",
        "  print(date)\n",
        "\n",
        "\n",
        "is_already_2018(input())"
      ],
      "execution_count": 3,
      "outputs": [
        {
          "output_type": "stream",
          "text": [
            "2017/12/12\n",
            "2018/12/12\n"
          ],
          "name": "stdout"
        }
      ]
    },
    {
      "cell_type": "markdown",
      "metadata": {
        "id": "00D-7tv7nqY3",
        "colab_type": "text"
      },
      "source": [
        "# B - i18n\n",
        "## 問題文\n",
        " internationalization という英単語は、i18n と略されることがあります。 これは、先頭文字 i と末尾文字 n の間に 18 文字が挟まっていることに由来します。\n",
        "\n",
        "長さ 3 以上の英小文字のみからなる文字列 s が与えられます。 同様の規則によって s を略してください。\n",
        "\n",
        "## 制約 \n",
        "3 ≤ | s | ≤ 100 (ただし、 | s | は s の長さを表す。) s は英小文字のみからなる。 \n",
        "\n",
        "##入力 \n",
        "入力は以下の形式で標準入力から与えられる。\n",
        "```\n",
        "s\n",
        "```\n",
        "## 出力 \n",
        "s を略したものを出力せよ。\n",
        "\n",
        "https://atcoder.jp/contests/abc069/tasks/abc069_b\n",
        "\n",
        "## 方針\n"
      ]
    },
    {
      "cell_type": "markdown",
      "metadata": {
        "id": "1mry5sVyn2At",
        "colab_type": "text"
      },
      "source": [
        "# B - Two Anagrams\n",
        "## 問題文\n",
        " 英小文字のみからなる文字列 s , t が与えられます。 あなたは、 s の文字を好きな順に並べ替え、文字列 s ′ を作ります。 また、 t の文字を好きな順に並べ替え、文字列 t ′ を作ります。 このとき、辞書順で s ′ < t ′ となるようにできるか判定してください。\n",
        "\n",
        "### 注釈 \n",
        "長さ N の文字列 a = a 1 a 2 . . . a N および長さ M の文字列 b = b 1 b 2 . . . b M について、辞書順で a < b であるとは、次の 2 つの条件のいずれかが成り立つことをいう;\n",
        "\n",
        "N < M かつ a 1 = b 1 , a 2 = b 2 , ..., a N = b N である。 ある i ( 1 ≤ i ≤ N , M ) が存在して、 a 1 = b 1 , a 2 = b 2 , ..., a i − 1 = b i − 1 かつ a i < b i である。 ただし、文字どうしはアルファベット順で比較される。 例えば、xy < xya であり、atcoder < atlas である。\n",
        "\n",
        "## 制約\n",
        "s , t の長さは 1 以上 100 以下である。 s , t は英小文字のみからなる。 \n",
        " \n",
        "##入力\n",
        "入力は以下の形式で標準入力から与えられる。\n",
        "```\n",
        "s\n",
        "t\n",
        "```\n",
        "## 出力 \n",
        "辞書順で s ′ < t ′ となるようにできるならば Yes を、できないならば No を出力せよ。\n",
        "\n",
        "https://atcoder.jp/contests/abc082/tasks/abc082_b\n",
        "\n",
        "## 方針\n"
      ]
    }
  ]
}